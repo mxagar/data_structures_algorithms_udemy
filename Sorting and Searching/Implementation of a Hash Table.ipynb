{
 "cells": [
  {
   "cell_type": "markdown",
   "metadata": {},
   "source": [
    "# Implementation of a Hash Table\n",
    "\n",
    "In this lecture we will be implementing our own Hash Table to complete our understanding of Hash Tables and Hash Functions! Make sure to review the video lecture before this to fully understand this implementation!\n",
    "\n",
    "Keep in mind that Python already has a built-in dictionary object that serves as a Hash Table, you would never actually need to implement your own hash table in Python.\n",
    "\n",
    "___\n",
    "## Map\n",
    "The idea of a dictionary used as a hash table to get and retrieve items using **keys** is often referred to as a mapping. In our implementation we will have the following methods:\n",
    "\n",
    "\n",
    "* **HashTable()** Create a new, empty map. It returns an empty map collection.\n",
    "* **put(key,val)** Add a new key-value pair to the map. If the key is already in the map then replace the old value with the new value.\n",
    "* **get(key)** Given a key, return the value stored in the map or None otherwise.\n",
    "* **del** Delete the key-value pair from the map using a statement of the form del map[key].\n",
    "* **len()** Return the number of key-value pairs stored \n",
    "* **in** the map in Return True for a statement of the form **key in map**, if the given key is in the map, False otherwise."
   ]
  },
  {
   "cell_type": "code",
   "execution_count": 2,
   "metadata": {
    "collapsed": true
   },
   "outputs": [],
   "source": [
    "class HashTable():\n",
    "    \n",
    "    def __init__(self, size=100):        \n",
    "        self.size = size # table_size\n",
    "        self.slots = [None] * self.size # keys\n",
    "        self.data = [None] * self.size # values\n",
    "        \n",
    "    def put(self, key, data):\n",
    "        \"\"\"Add a new key-value pair to the hash table.\n",
    "        If the key already exists,\n",
    "        replace the old value with the new one.\n",
    "        In this case, only integer keys are used.\"\"\"\n",
    "\n",
    "        # Get the hash value\n",
    "        hash_value = self.hash_function(key, len(self.slots))\n",
    "\n",
    "        # If slot is empty, add key-value pair\n",
    "        # Note: this is implemented with a Python list\n",
    "        # (which is not really a linked list, but a dynamic array with O(1) access);\n",
    "        # as an alternative we can use a Numpy array\n",
    "        # (also contiguous memory cells, but optimized for basic types)\n",
    "        if self.slots[hash_value] == None:\n",
    "            self.slots[hash_value] = key\n",
    "            self.data[hash_value] = data\n",
    "        \n",
    "        else:\n",
    "            # If key already exists, replace old value\n",
    "            if self.slots[hash_value] == key:\n",
    "                self.data[hash_value] = data  \n",
    "            \n",
    "            # Otherwise, find the next available slot\n",
    "            else:\n",
    "                next_slot = self.linear_probe(hash_value, len(self.slots))\n",
    "                \n",
    "                # Get to the next slot\n",
    "                while self.slots[next_slot] is not None and self.slots[next_slot] != key:\n",
    "                    next_slot = self.linear_probe(next_slot, len(self.slots))\n",
    "                \n",
    "                # Set new key, if NONE\n",
    "                if self.slots[next_slot] == None:\n",
    "                    self.slots[next_slot]=key\n",
    "                    self.data[next_slot]=data\n",
    "                # Otherwise replace old value\n",
    "                else:\n",
    "                    self.data[next_slot] = data \n",
    "\n",
    "    def hash_function(self, key, size):\n",
    "        # Remainder Method\n",
    "        return key % size\n",
    "\n",
    "    def linear_probe(self, old_hash, size):\n",
    "        # For finding next possible positions\n",
    "        return (old_hash+1) % size\n",
    "\n",
    "    def get(self, key):\n",
    "        \"\"\"Getting item/value given a key.\"\"\"\n",
    "\n",
    "        # Set up variables for our search\n",
    "        start_slot = self.hash_function(key, len(self.slots))\n",
    "        data = None\n",
    "        stop = False\n",
    "        found = False\n",
    "        position = start_slot\n",
    "        \n",
    "        # Until we discern that it's not empty or found (and haven't stopped yet)\n",
    "        while self.slots[position] is not None and not found and not stop:            \n",
    "            if self.slots[position] == key:\n",
    "                found = True\n",
    "                data = self.data[position]\n",
    "            else:\n",
    "                position=self.linear_probe(position,len(self.slots))\n",
    "                if position == start_slot:\n",
    "                    stop = True\n",
    "\n",
    "        return data\n",
    "\n",
    "    # Special Methods for use with Python indexing\n",
    "    def __getitem__(self, key):\n",
    "        return self.get(key)\n",
    "\n",
    "    def __setitem__(self, key, data):\n",
    "        self.put(key, data)"
   ]
  },
  {
   "cell_type": "markdown",
   "metadata": {},
   "source": [
    "Let's see it in action!"
   ]
  },
  {
   "cell_type": "code",
   "execution_count": 3,
   "metadata": {
    "collapsed": true
   },
   "outputs": [],
   "source": [
    "h = HashTable(5)"
   ]
  },
  {
   "cell_type": "code",
   "execution_count": 4,
   "metadata": {},
   "outputs": [],
   "source": [
    "# Put our first key in\n",
    "h[1] = 'one'"
   ]
  },
  {
   "cell_type": "code",
   "execution_count": 5,
   "metadata": {
    "collapsed": true
   },
   "outputs": [],
   "source": [
    "h[2] = 'two'"
   ]
  },
  {
   "cell_type": "code",
   "execution_count": 6,
   "metadata": {
    "collapsed": true
   },
   "outputs": [],
   "source": [
    "h[3] = 'three'"
   ]
  },
  {
   "cell_type": "code",
   "execution_count": 7,
   "metadata": {},
   "outputs": [
    {
     "data": {
      "text/plain": [
       "'one'"
      ]
     },
     "execution_count": 7,
     "metadata": {},
     "output_type": "execute_result"
    }
   ],
   "source": [
    "h[1]"
   ]
  },
  {
   "cell_type": "code",
   "execution_count": 8,
   "metadata": {
    "collapsed": true
   },
   "outputs": [],
   "source": [
    "h[1] = 'new_one'"
   ]
  },
  {
   "cell_type": "code",
   "execution_count": 9,
   "metadata": {},
   "outputs": [
    {
     "data": {
      "text/plain": [
       "'new_one'"
      ]
     },
     "execution_count": 9,
     "metadata": {},
     "output_type": "execute_result"
    }
   ],
   "source": [
    "h[1]"
   ]
  },
  {
   "cell_type": "code",
   "execution_count": 11,
   "metadata": {},
   "outputs": [
    {
     "name": "stdout",
     "output_type": "stream",
     "text": [
      "None\n"
     ]
    }
   ],
   "source": [
    "print(h[4])"
   ]
  },
  {
   "cell_type": "markdown",
   "metadata": {},
   "source": [
    "### Great Job!\n",
    "\n",
    "That's it for this rudimentary implementation, try implementing a different hash function for practice!"
   ]
  }
 ],
 "metadata": {
  "kernelspec": {
   "display_name": "Python 3",
   "language": "python",
   "name": "python3"
  },
  "language_info": {
   "codemirror_mode": {
    "name": "ipython",
    "version": 3
   },
   "file_extension": ".py",
   "mimetype": "text/x-python",
   "name": "python",
   "nbconvert_exporter": "python",
   "pygments_lexer": "ipython3",
   "version": "3.8.16"
  }
 },
 "nbformat": 4,
 "nbformat_minor": 1
}
