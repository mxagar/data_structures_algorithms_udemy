{
 "cells": [
  {
   "cell_type": "markdown",
   "metadata": {},
   "source": [
    "# Tries: Sort strings in lexicographical order"
   ]
  },
  {
   "cell_type": "markdown",
   "metadata": {},
   "source": [
    "> Given a list of strings as input, implement the `sort_list()` function, which sorts the elements of the list in lexicographical order.\n",
    ">\n",
    "> Constraints:\n",
    "> \n",
    "> - `0 <= words.length <= 10^3`\n",
    "> - `1 <= words[i].length <= 45`\n",
    "> - All `words[i]` consist of lowercase English alphabets"
   ]
  },
  {
   "cell_type": "markdown",
   "metadata": {},
   "source": [
    "![Example 1](./trie_exercise_3_1.png)"
   ]
  },
  {
   "cell_type": "markdown",
   "metadata": {},
   "source": [
    "![Example 2](./trie_exercise_3_2.png)"
   ]
  },
  {
   "cell_type": "markdown",
   "metadata": {},
   "source": [
    "![Example 3](./trie_exercise_3_3.png)"
   ]
  },
  {
   "cell_type": "markdown",
   "metadata": {},
   "source": [
    "## Solution"
   ]
  },
  {
   "cell_type": "markdown",
   "metadata": {},
   "source": [
    "We construct a Trie with the words in the list and then we extract the words from it using a depth-first search, implemented recursive calls with a `get_words()` function. The complexity is `O(n)`."
   ]
  },
  {
   "cell_type": "code",
   "execution_count": 1,
   "metadata": {},
   "outputs": [],
   "source": [
    "from trie import Trie, TrieNode"
   ]
  },
  {
   "cell_type": "code",
   "execution_count": 2,
   "metadata": {},
   "outputs": [],
   "source": [
    "# Recursive function to generate all words in alphabetical order\n",
    "def get_words(root, result, level, word):\n",
    "    # Leaf denotes end of a word\n",
    "    if (root.is_end_word):\n",
    "        # Current word is stored till the 'level' in the character array\n",
    "        temp = \"\"\n",
    "        for x in range(level):\n",
    "            temp += word[x]\n",
    "        result.append(temp)\n",
    "\n",
    "    for i in range(26):\n",
    "        if (root.children[i] is not None):\n",
    "            # Non-null child, so add that index to the character array\n",
    "            word[level] = chr(i + ord('a'))\n",
    "            get_words(root.children[i], result, level + 1, word)\n",
    "\n",
    "\n",
    "def sort_list(trie):\n",
    "    result = []\n",
    "    word = [''] * 20\n",
    "    get_words(trie.root, result, 0, word)\n",
    "    return result"
   ]
  },
  {
   "cell_type": "code",
   "execution_count": 3,
   "metadata": {},
   "outputs": [],
   "source": [
    "# Driver Code\n",
    "def main():\n",
    "    keys = [[\"gram\", \"grammar\", \"grain\", \"grainy\", \"grape\"],\n",
    "            [\"absent\", \"absorb\", \"abstain\", \"abstract\", \"absurd\"],\n",
    "            [\"dormant\", \"dormitory\", \"dormouse\", \"dormant\", \"dormant\"],\n",
    "            [\"prey\", \"preach\", \"prepare\", \"prestige\", \"prestigious\"],\n",
    "            [\"moon\", \"moose\", \"mood\", \"moot\", \"moor\"]]\n",
    "    i = 0\n",
    "    print(\"Input: \", keys[i])\n",
    "    for words in keys:\n",
    "        t = Trie()\n",
    "        for word in words:\n",
    "            print(\"Insert: '\", word, \"'\", sep=\"\")\n",
    "            t.insert(word)\n",
    "        \n",
    "        result = sort_list(t)\n",
    "        print(\"\\nOutput: \", result, \"\", sep=\"\")\n",
    "        print(\"-\" * 100)"
   ]
  },
  {
   "cell_type": "code",
   "execution_count": 4,
   "metadata": {},
   "outputs": [
    {
     "name": "stdout",
     "output_type": "stream",
     "text": [
      "Input:  ['gram', 'grammar', 'grain', 'grainy', 'grape']\n",
      "Insert: 'gram'\n",
      "Insert: 'grammar'\n",
      "Insert: 'grain'\n",
      "Insert: 'grainy'\n",
      "Insert: 'grape'\n",
      "\n",
      "Output: ['grain', 'grainy', 'gram', 'grammar', 'grape']\n",
      "----------------------------------------------------------------------------------------------------\n",
      "Insert: 'absent'\n",
      "Insert: 'absorb'\n",
      "Insert: 'abstain'\n",
      "Insert: 'abstract'\n",
      "Insert: 'absurd'\n",
      "\n",
      "Output: ['absent', 'absorb', 'abstain', 'abstract', 'absurd']\n",
      "----------------------------------------------------------------------------------------------------\n",
      "Insert: 'dormant'\n",
      "Insert: 'dormitory'\n",
      "Insert: 'dormouse'\n",
      "Insert: 'dormant'\n",
      "Insert: 'dormant'\n",
      "\n",
      "Output: ['dormant', 'dormitory', 'dormouse']\n",
      "----------------------------------------------------------------------------------------------------\n",
      "Insert: 'prey'\n",
      "Insert: 'preach'\n",
      "Insert: 'prepare'\n",
      "Insert: 'prestige'\n",
      "Insert: 'prestigious'\n",
      "\n",
      "Output: ['preach', 'prepare', 'prestige', 'prestigious', 'prey']\n",
      "----------------------------------------------------------------------------------------------------\n",
      "Insert: 'moon'\n",
      "Insert: 'moose'\n",
      "Insert: 'mood'\n",
      "Insert: 'moot'\n",
      "Insert: 'moor'\n",
      "\n",
      "Output: ['mood', 'moon', 'moor', 'moose', 'moot']\n",
      "----------------------------------------------------------------------------------------------------\n"
     ]
    }
   ],
   "source": [
    "main()"
   ]
  },
  {
   "cell_type": "code",
   "execution_count": null,
   "metadata": {},
   "outputs": [],
   "source": []
  }
 ],
 "metadata": {
  "kernelspec": {
   "display_name": "Python 3",
   "language": "python",
   "name": "python3"
  },
  "language_info": {
   "codemirror_mode": {
    "name": "ipython",
    "version": 3
   },
   "file_extension": ".py",
   "mimetype": "text/x-python",
   "name": "python",
   "nbconvert_exporter": "python",
   "pygments_lexer": "ipython3",
   "version": "3.8.16"
  }
 },
 "nbformat": 4,
 "nbformat_minor": 2
}
