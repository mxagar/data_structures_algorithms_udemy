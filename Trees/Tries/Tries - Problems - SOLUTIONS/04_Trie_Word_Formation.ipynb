{
 "cells": [
  {
   "cell_type": "markdown",
   "metadata": {},
   "source": [
    "# Tries: Word Formation From a Dictionary Using Trie"
   ]
  },
  {
   "cell_type": "markdown",
   "metadata": {},
   "source": [
    "> Given a dictionary, find whether a given word can be formed by combining two words from the dictionary.\n",
    ">\n",
    "> Constraints:\n",
    "> \n",
    "> - `0 <= dictionary <= 10^3`\n",
    "> - `0 <= dictionary[i] <= 10^2`\n",
    "> - `1 <= word <= 10^2`\n",
    "> - `word` and `words[i]` consist of lowercase English letters"
   ]
  },
  {
   "cell_type": "markdown",
   "metadata": {},
   "source": [
    "![Example 1](./trie_exercise_4_1.png)"
   ]
  },
  {
   "cell_type": "markdown",
   "metadata": {},
   "source": [
    "![Example 2](./trie_exercise_4_2.png)"
   ]
  },
  {
   "cell_type": "markdown",
   "metadata": {},
   "source": [
    "## Solution"
   ]
  },
  {
   "cell_type": "markdown",
   "metadata": {},
   "source": [
    "A trie is formed with all the words in the dictionary. Then, given a query word, we check its characters one by one to see if there exists a valid path in the trie, even though the word is not inserted (i.e., the flag `end_of_word` is not set)."
   ]
  },
  {
   "cell_type": "code",
   "execution_count": 1,
   "metadata": {},
   "outputs": [],
   "source": [
    "from trie import Trie, TrieNode"
   ]
  },
  {
   "cell_type": "code",
   "execution_count": 2,
   "metadata": {},
   "outputs": [],
   "source": [
    "def is_formation_possible(dictionary, word):\n",
    "\n",
    "    # Create Trie and insert dictionary elements in it\n",
    "    trie = Trie()\n",
    "    for elem in dictionary:\n",
    "        trie.insert(elem)\n",
    "\n",
    "    # Get root\n",
    "    current = trie.root\n",
    "\n",
    "    # Iterate all the letters of the word\n",
    "    for i in range(len(word)):\n",
    "        # get index of the character from Trie\n",
    "        char = trie.get_index(word[i])\n",
    "\n",
    "        # Return FALSE if the prefix of word does not exist\n",
    "        if current.children[char] is None:\n",
    "            return False\n",
    "\n",
    "        # If the substring of the word exists as a word in trie,\n",
    "        # check whether rest of the word also exists,\n",
    "        # if it does return true\n",
    "        elif current.children[char].is_end_word:\n",
    "            if trie.search(word[i+1:]):\n",
    "                return True\n",
    "\n",
    "        current = current.children[char]\n",
    "\n",
    "    return False"
   ]
  },
  {
   "cell_type": "code",
   "execution_count": 3,
   "metadata": {},
   "outputs": [],
   "source": [
    "# Driver code\n",
    "def main():\n",
    "    inputs = [ [\"he\",\"hello\",\"home\",\"work\"],\n",
    "               [\"play\",\"plot\",\"bat\"],\n",
    "               [\"p\",\"q\",\"r\"],\n",
    "               [\"abc\",\"def\"],\n",
    "               [\"add\",\"addi\",\"number\"]\n",
    "    ]\n",
    "\n",
    "    words =  [\"hehome\", \"world\", \"pr\", \"abcdef\", \"subtract\"]\n",
    "    \n",
    "\n",
    "    for i in range(len(inputs)):\n",
    "        print(\"\\tDictionary: \", inputs[i], sep=\"\")\n",
    "        print(\"\\tword: \", words[i], sep=\"\")\n",
    "        print(\"\\n\\tResult: \", is_formation_possible(inputs[i], words[i]), sep=\"\")\n",
    "        print(\"-\" * 100)\n"
   ]
  },
  {
   "cell_type": "code",
   "execution_count": 4,
   "metadata": {},
   "outputs": [
    {
     "name": "stdout",
     "output_type": "stream",
     "text": [
      "\tDictionary: ['he', 'hello', 'home', 'work']\n",
      "\tword: hehome\n",
      "\n",
      "\tResult: True\n",
      "----------------------------------------------------------------------------------------------------\n",
      "\tDictionary: ['play', 'plot', 'bat']\n",
      "\tword: world\n",
      "\n",
      "\tResult: False\n",
      "----------------------------------------------------------------------------------------------------\n",
      "\tDictionary: ['p', 'q', 'r']\n",
      "\tword: pr\n",
      "\n",
      "\tResult: True\n",
      "----------------------------------------------------------------------------------------------------\n",
      "\tDictionary: ['abc', 'def']\n",
      "\tword: abcdef\n",
      "\n",
      "\tResult: True\n",
      "----------------------------------------------------------------------------------------------------\n",
      "\tDictionary: ['add', 'addi', 'number']\n",
      "\tword: subtract\n",
      "\n",
      "\tResult: False\n",
      "----------------------------------------------------------------------------------------------------\n"
     ]
    }
   ],
   "source": [
    "main()"
   ]
  },
  {
   "cell_type": "code",
   "execution_count": null,
   "metadata": {},
   "outputs": [],
   "source": []
  }
 ],
 "metadata": {
  "kernelspec": {
   "display_name": "Python 3",
   "language": "python",
   "name": "python3"
  },
  "language_info": {
   "codemirror_mode": {
    "name": "ipython",
    "version": 3
   },
   "file_extension": ".py",
   "mimetype": "text/x-python",
   "name": "python",
   "nbconvert_exporter": "python",
   "pygments_lexer": "ipython3",
   "version": "3.8.16"
  }
 },
 "nbformat": 4,
 "nbformat_minor": 2
}
