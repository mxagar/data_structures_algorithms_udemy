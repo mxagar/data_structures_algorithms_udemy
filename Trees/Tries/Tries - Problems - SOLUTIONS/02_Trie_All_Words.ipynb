{
 "cells": [
  {
   "cell_type": "markdown",
   "metadata": {},
   "source": [
    "# Tries: All Words"
   ]
  },
  {
   "cell_type": "markdown",
   "metadata": {},
   "source": [
    "> Given a trie data structure representing a list of `words`, implement a function that finds and returns all words stored in the trie.\n",
    "> \n",
    "> Constraints:\n",
    "> \n",
    "> - `0 <= words.length <= 10^3`\n",
    "> - `1 <= words[i].length <= 45`\n",
    "> - All `words[i]` consist of lowercase English alphabets"
   ]
  },
  {
   "cell_type": "markdown",
   "metadata": {},
   "source": [
    "![Example](./trie_exercise_2_1.png)"
   ]
  },
  {
   "cell_type": "markdown",
   "metadata": {},
   "source": [
    "### Solution"
   ]
  },
  {
   "cell_type": "code",
   "execution_count": 2,
   "metadata": {},
   "outputs": [],
   "source": [
    "from trie import Trie, TrieNode\n",
    "\n",
    "\n",
    "# Recursive function to get the maximum depth of a trie\n",
    "def get_max_depth(root, level):\n",
    "    # If the root is null, return the current level\n",
    "    if not root:\n",
    "        return level\n",
    "    max_depth = level\n",
    "    for child in root.children:\n",
    "        if child:\n",
    "            # Recursively calculate the maximum depth of the subtree\n",
    "            max_depth = max(max_depth, get_max_depth(child, level + 1))\n",
    "    return max_depth\n",
    "\n",
    "# Recursive function to find all the words stored in a trie\n",
    "# Depth-first search (DFS) \n",
    "def get_words(root, result, level, word):\n",
    "    # If the current node marks the end of a word, \n",
    "    # construct the word and append it to the result list\n",
    "    if root.is_end_word:\n",
    "        temp = \"\"\n",
    "        for x in range(level):\n",
    "            temp += word[x]\n",
    "        result.append(str(temp))\n",
    "\n",
    "    for i in range(26):\n",
    "        if root.children[i]:\n",
    "            # Update the word array with the character at the current level\n",
    "            word[level] = chr(i + ord('a'))\n",
    "            \n",
    "            # Recursively explore the child node\n",
    "            get_words(root.children[i], result, level + 1, word)\n",
    "\n",
    "# Helper function to call the get_words function\n",
    "def find_words(root):\n",
    "    result = []\n",
    "    word = [None] * get_max_depth(root, 0)\n",
    "    get_words(root, result, 0, word)\n",
    "    return result\n"
   ]
  },
  {
   "cell_type": "code",
   "execution_count": 3,
   "metadata": {},
   "outputs": [],
   "source": [
    "# Driver Code\n",
    "def main():\n",
    "    num = 1\n",
    "    words = [[\"gram\", \"groom\", \"ace\", \"act\", \"actor\"],\n",
    "            [\"abs\", \"crow\", \"crop\", \"abstain\", \"crunch\"],\n",
    "            [\"dorm\", \"norm\", \"prom\", \"loom\", \"room\"],\n",
    "            [\"prey\", \"prep\", \"press\", \"preps\", \"prefix\"],\n",
    "            [\"moon\", \"once\", \"face\", \"dice\", \"mole\"]]\n",
    "    \n",
    "    for word in words:\n",
    "        t = Trie()\n",
    "        for w in word:\n",
    "            print(\"Insert word: '\", w, \"'\", sep=\"\")\n",
    "            t.insert(w)\n",
    "            num += 1\n",
    "            words_found = find_words(t.root)\n",
    "        print(\"\\nWords found: \", words_found, sep=\"\")\n",
    "        print(\"-\" * 100)"
   ]
  },
  {
   "cell_type": "code",
   "execution_count": 4,
   "metadata": {},
   "outputs": [
    {
     "name": "stdout",
     "output_type": "stream",
     "text": [
      "Insert word: 'gram'\n",
      "Insert word: 'groom'\n",
      "Insert word: 'ace'\n",
      "Insert word: 'act'\n",
      "Insert word: 'actor'\n",
      "\n",
      "Words found: ['ace', 'act', 'actor', 'gram', 'groom']\n",
      "----------------------------------------------------------------------------------------------------\n",
      "Insert word: 'abs'\n",
      "Insert word: 'crow'\n",
      "Insert word: 'crop'\n",
      "Insert word: 'abstain'\n",
      "Insert word: 'crunch'\n",
      "\n",
      "Words found: ['abs', 'abstain', 'crop', 'crow', 'crunch']\n",
      "----------------------------------------------------------------------------------------------------\n",
      "Insert word: 'dorm'\n",
      "Insert word: 'norm'\n",
      "Insert word: 'prom'\n",
      "Insert word: 'loom'\n",
      "Insert word: 'room'\n",
      "\n",
      "Words found: ['dorm', 'loom', 'norm', 'prom', 'room']\n",
      "----------------------------------------------------------------------------------------------------\n",
      "Insert word: 'prey'\n",
      "Insert word: 'prep'\n",
      "Insert word: 'press'\n",
      "Insert word: 'preps'\n",
      "Insert word: 'prefix'\n",
      "\n",
      "Words found: ['prefix', 'prep', 'preps', 'press', 'prey']\n",
      "----------------------------------------------------------------------------------------------------\n",
      "Insert word: 'moon'\n",
      "Insert word: 'once'\n",
      "Insert word: 'face'\n",
      "Insert word: 'dice'\n",
      "Insert word: 'mole'\n",
      "\n",
      "Words found: ['dice', 'face', 'mole', 'moon', 'once']\n",
      "----------------------------------------------------------------------------------------------------\n"
     ]
    }
   ],
   "source": [
    "main()"
   ]
  },
  {
   "cell_type": "code",
   "execution_count": null,
   "metadata": {},
   "outputs": [],
   "source": []
  }
 ],
 "metadata": {
  "kernelspec": {
   "display_name": "Python 3",
   "language": "python",
   "name": "python3"
  },
  "language_info": {
   "codemirror_mode": {
    "name": "ipython",
    "version": 3
   },
   "file_extension": ".py",
   "mimetype": "text/x-python",
   "name": "python",
   "nbconvert_exporter": "python",
   "pygments_lexer": "ipython3",
   "version": "3.8.16"
  }
 },
 "nbformat": 4,
 "nbformat_minor": 2
}
