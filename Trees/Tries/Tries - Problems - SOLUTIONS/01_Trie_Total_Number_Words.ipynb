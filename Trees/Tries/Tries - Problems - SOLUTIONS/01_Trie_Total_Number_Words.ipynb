{
 "cells": [
  {
   "cell_type": "markdown",
   "metadata": {},
   "source": [
    "# Tries: Total Number of Words"
   ]
  },
  {
   "cell_type": "markdown",
   "metadata": {},
   "source": [
    "> Given a trie data structure that represents a list of words, `words`, determine the total number of words stored in it.\n",
    ">\n",
    "> Constraints:\n",
    "> \n",
    "> - `0 <= words.length <= 10^3`\n",
    "> - `1 <= words[i].length <= 45`\n",
    "> - All `words[i]` consist of lowercase English alphabets"
   ]
  },
  {
   "cell_type": "markdown",
   "metadata": {},
   "source": [
    "![Example 1](./trie_exercise_1_1.png)"
   ]
  },
  {
   "cell_type": "markdown",
   "metadata": {},
   "source": [
    "![Example 2](./trie_exercise_1_2.png)"
   ]
  },
  {
   "cell_type": "markdown",
   "metadata": {},
   "source": [
    "## Solution"
   ]
  },
  {
   "cell_type": "code",
   "execution_count": 3,
   "metadata": {},
   "outputs": [],
   "source": [
    "# The Trie data structure is implemented in the co-located trie.py\n",
    "from trie import Trie, TrieNode"
   ]
  },
  {
   "cell_type": "code",
   "execution_count": 4,
   "metadata": {},
   "outputs": [],
   "source": [
    "# Recursive function\n",
    "# TrieNode => {children, is_end_word, char}\n",
    "def total_words(root):\n",
    "\tresult = 0\n",
    "\n",
    "\t# Leaf denotes the end of a word\n",
    "    # We have a word if a node is a leaf node\n",
    "\tif root.is_end_word:\n",
    "\t\tresult += 1\n",
    "\n",
    "    # Traverse complete tree recursively\n",
    "\tfor letter in root.children:\n",
    "\t\tif letter is not None:\n",
    "\t\t\tresult += total_words(letter)\n",
    "\treturn result"
   ]
  },
  {
   "cell_type": "code",
   "execution_count": 5,
   "metadata": {},
   "outputs": [],
   "source": [
    "def main():\n",
    "    num = 1\n",
    "    keys = [[\"hello\", \"world\", \"python\", \"programming\"],\n",
    "            [\"app\", \"apple\", \"applepie\"],\n",
    "            [\"dog\", \"dig\", \"ham\", \"hamster\", \"dino\"],\n",
    "            [\"sun\", \"burn\"],\n",
    "            [\"red\", \"blue\", \"green\", \"yellow\", \"orange\", \"purple\"]]\n",
    "    \n",
    "    for words in keys:\n",
    "        t = Trie()\n",
    "        for word in words:\n",
    "            t.insert(word)\n",
    "            num += 1\n",
    "            words_found = total_words(t.root)\n",
    "        print(\"\\nTotal words found: \", words_found, sep=\"\")\n",
    "        print(\"-\" * 50)"
   ]
  },
  {
   "cell_type": "code",
   "execution_count": 6,
   "metadata": {},
   "outputs": [
    {
     "name": "stdout",
     "output_type": "stream",
     "text": [
      "\n",
      "Total words found: 4\n",
      "--------------------------------------------------\n",
      "\n",
      "Total words found: 3\n",
      "--------------------------------------------------\n",
      "\n",
      "Total words found: 5\n",
      "--------------------------------------------------\n",
      "\n",
      "Total words found: 2\n",
      "--------------------------------------------------\n",
      "\n",
      "Total words found: 6\n",
      "--------------------------------------------------\n"
     ]
    }
   ],
   "source": [
    "main()"
   ]
  },
  {
   "cell_type": "code",
   "execution_count": null,
   "metadata": {},
   "outputs": [],
   "source": []
  }
 ],
 "metadata": {
  "kernelspec": {
   "display_name": "Python 3",
   "language": "python",
   "name": "python3"
  },
  "language_info": {
   "codemirror_mode": {
    "name": "ipython",
    "version": 3
   },
   "file_extension": ".py",
   "mimetype": "text/x-python",
   "name": "python",
   "nbconvert_exporter": "python",
   "pygments_lexer": "ipython3",
   "version": "3.8.16"
  }
 },
 "nbformat": 4,
 "nbformat_minor": 2
}
